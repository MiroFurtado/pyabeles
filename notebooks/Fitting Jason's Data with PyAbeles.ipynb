{
 "cells": [
  {
   "cell_type": "code",
   "execution_count": 1,
   "metadata": {},
   "outputs": [
    {
     "ename": "ImportError",
     "evalue": "No module named pyabeles",
     "output_type": "error",
     "traceback": [
      "\u001b[0;31m---------------------------------------------------------------------------\u001b[0m",
      "\u001b[0;31mImportError\u001b[0m                               Traceback (most recent call last)",
      "\u001b[0;32m<ipython-input-1-d8befb3176d0>\u001b[0m in \u001b[0;36m<module>\u001b[0;34m()\u001b[0m\n\u001b[1;32m      1\u001b[0m \u001b[0;32mimport\u001b[0m \u001b[0mnumpy\u001b[0m \u001b[0;32mas\u001b[0m \u001b[0mnp\u001b[0m\u001b[0;34m\u001b[0m\u001b[0m\n\u001b[1;32m      2\u001b[0m \u001b[0;32mimport\u001b[0m \u001b[0mmatplotlib\u001b[0m\u001b[0;34m.\u001b[0m\u001b[0mpyplot\u001b[0m \u001b[0;32mas\u001b[0m \u001b[0mplt\u001b[0m\u001b[0;34m\u001b[0m\u001b[0m\n\u001b[0;32m----> 3\u001b[0;31m \u001b[0;32mimport\u001b[0m \u001b[0mpyabeles\u001b[0m \u001b[0;32mas\u001b[0m \u001b[0mpa\u001b[0m\u001b[0;34m\u001b[0m\u001b[0m\n\u001b[0m\u001b[1;32m      4\u001b[0m \u001b[0mget_ipython\u001b[0m\u001b[0;34m(\u001b[0m\u001b[0;34m)\u001b[0m\u001b[0;34m.\u001b[0m\u001b[0mmagic\u001b[0m\u001b[0;34m(\u001b[0m\u001b[0;34mu'matplotlib inline'\u001b[0m\u001b[0;34m)\u001b[0m\u001b[0;34m\u001b[0m\u001b[0m\n",
      "\u001b[0;31mImportError\u001b[0m: No module named pyabeles"
     ]
    }
   ],
   "source": [
    "import numpy as np\n",
    "import matplotlib.pyplot as plt\n",
    "import pyabeles as pa\n",
    "%matplotlib inline"
   ]
  },
  {
   "cell_type": "code",
   "execution_count": null,
   "metadata": {
    "collapsed": true
   },
   "outputs": [],
   "source": [
    "STO = pa.Layer(0.,5.0,sigma=5.,name=\"STO\")\n",
    "LSMO = pa.Layer(0.,6.5, sigma=5., name=\"LSMO\")"
   ]
  },
  {
   "cell_type": "markdown",
   "metadata": {},
   "source": [
    "## Data 636"
   ]
  },
  {
   "cell_type": "code",
   "execution_count": null,
   "metadata": {
    "collapsed": true
   },
   "outputs": [],
   "source": [
    "data636 = np.genfromtxt('/Users/miro/Desktop/hoffman/xref/notebooks/0636 XRR 0.5 to 8.0 deg 10 sec.xy',delimiter=' ')\n",
    "theta636 = data636[:,0]\n",
    "r636 = data636[:,1]\n",
    "scale = r636[0]\n",
    "for i in range(0,len(r636)):\n",
    "    r636[i] /= scale\n",
    "    theta636[i] /= 2"
   ]
  },
  {
   "cell_type": "code",
   "execution_count": null,
   "metadata": {
    "scrolled": false
   },
   "outputs": [],
   "source": [
    "plt.plot(theta636, np.log10(r636))"
   ]
  },
  {
   "cell_type": "markdown",
   "metadata": {},
   "source": [
    "Defining structure, experiment, and fitter objects:"
   ]
  },
  {
   "cell_type": "code",
   "execution_count": null,
   "metadata": {
    "collapsed": true
   },
   "outputs": [],
   "source": [
    "struct636 = LSMO.set_thickness(300.)+STO\n",
    "exp636 = struct636.doExperiment(theta636, R=r636)\n",
    "model = pa.Fitter(exp636,method=\"de\",cutoff_begin=0,cutoff_end=700)"
   ]
  },
  {
   "cell_type": "markdown",
   "metadata": {},
   "source": [
    "Fitting,"
   ]
  },
  {
   "cell_type": "code",
   "execution_count": null,
   "metadata": {
    "collapsed": true
   },
   "outputs": [],
   "source": [
    "fit636 = model.fit()"
   ]
  },
  {
   "cell_type": "code",
   "execution_count": null,
   "metadata": {
    "scrolled": false
   },
   "outputs": [],
   "source": [
    "rFit = exp636.genTheory(modify=False)\n",
    "plt.plot(theta636[0:],np.log10(rFit[0:]))\n",
    "plt.plot(theta636[0:],np.log10(r636[0:]))"
   ]
  },
  {
   "cell_type": "markdown",
   "metadata": {},
   "source": [
    "Calculated thickness of LSMO layer in nm"
   ]
  },
  {
   "cell_type": "code",
   "execution_count": null,
   "metadata": {
    "collapsed": true,
    "scrolled": false
   },
   "outputs": [],
   "source": [
    "calcD = fit636[0].d[1]/10"
   ]
  },
  {
   "cell_type": "code",
   "execution_count": null,
   "metadata": {
    "scrolled": false
   },
   "outputs": [],
   "source": [
    "print \"Thickness Error: %f%%\" % (100*(calcD-31.3410)/31.3410)"
   ]
  },
  {
   "cell_type": "markdown",
   "metadata": {},
   "source": [
    "## Data 735"
   ]
  },
  {
   "cell_type": "code",
   "execution_count": null,
   "metadata": {
    "collapsed": true
   },
   "outputs": [],
   "source": [
    "MgO = pa.Layer(0.,4.,sigma=10.,name=\"MgO\")\n",
    "NiO = pa.Layer(0.,6.6,sigma=5.,name=\"NiO\")"
   ]
  },
  {
   "cell_type": "code",
   "execution_count": null,
   "metadata": {
    "collapsed": true
   },
   "outputs": [],
   "source": [
    "data735 = np.genfromtxt('/Users/miro/Desktop/hoffman/xref/notebooks/0735 XRR 0.5 to 8 deg 10 sec.xy',delimiter=' ')\n",
    "theta735 = data735[:,0]\n",
    "r735 = data735[:,1]\n",
    "scale = r735[0]\n",
    "for i in range(0,len(r735)):\n",
    "    r735[i] /= scale\n",
    "    theta735[i] /= 2"
   ]
  },
  {
   "cell_type": "code",
   "execution_count": null,
   "metadata": {},
   "outputs": [],
   "source": [
    "plt.plot(theta735, np.log10(r735))"
   ]
  },
  {
   "cell_type": "code",
   "execution_count": null,
   "metadata": {
    "collapsed": true
   },
   "outputs": [],
   "source": [
    "struct735 = NiO.set_thickness(300.)+MgO\n",
    "exp735 = struct735.doExperiment(theta735, R=r735)\n",
    "model = pa.Fitter(exp735,method=\"de\",cutoff_begin=0,cutoff_end=400)"
   ]
  },
  {
   "cell_type": "code",
   "execution_count": null,
   "metadata": {
    "collapsed": true
   },
   "outputs": [],
   "source": [
    "fit735 = model.fit()"
   ]
  },
  {
   "cell_type": "code",
   "execution_count": null,
   "metadata": {
    "scrolled": true
   },
   "outputs": [],
   "source": [
    "rFit = exp735.genTheory(modify=False)\n",
    "plt.plot(theta735[0:],np.log10(rFit[0:]))\n",
    "plt.plot(theta735[0:],np.log10(r735[0:]))"
   ]
  },
  {
   "cell_type": "code",
   "execution_count": null,
   "metadata": {
    "scrolled": true
   },
   "outputs": [],
   "source": [
    "calcD = fit735[0].d[1]/10\n",
    "print \"Thickness error: %f%%\" % (100*np.abs(calcD-30.902)/30.902)\n",
    "print \"Thickness found to be %f nm\" % calcD"
   ]
  },
  {
   "cell_type": "code",
   "execution_count": null,
   "metadata": {},
   "outputs": [],
   "source": [
    "fit735[0].rho"
   ]
  },
  {
   "cell_type": "code",
   "execution_count": null,
   "metadata": {
    "scrolled": true
   },
   "outputs": [],
   "source": [
    "fit735[1]"
   ]
  },
  {
   "cell_type": "markdown",
   "metadata": {},
   "source": [
    "## Data 606\n",
    "\n",
    "Let's start by trying to solve in the high-dimensional parameter space,"
   ]
  },
  {
   "cell_type": "code",
   "execution_count": null,
   "metadata": {
    "collapsed": true
   },
   "outputs": [],
   "source": [
    "data606 = np.genfromtxt('/Users/miro/Desktop/hoffman/xref/notebooks/0606 XRR 0.5 to 15.0 deg 20 sec.xy',delimiter=' ')\n",
    "theta606 = data606[:,0]\n",
    "r606 = data606[:,1]\n",
    "scale = r606[0]\n",
    "for i in range(0,len(r606)):\n",
    "    r606[i] /= scale\n",
    "    theta606[i] /= 2"
   ]
  },
  {
   "cell_type": "code",
   "execution_count": null,
   "metadata": {},
   "outputs": [],
   "source": [
    "plt.plot(theta606, np.log10(r606))"
   ]
  },
  {
   "cell_type": "code",
   "execution_count": null,
   "metadata": {
    "collapsed": true
   },
   "outputs": [],
   "source": [
    "LNO =  pa.Layer(0.,7.,sigma=3.,name=\"MgO\")\n",
    "LSMO = pa.Layer(0.,6.5, sigma=2., name=\"LSMO\")"
   ]
  },
  {
   "cell_type": "code",
   "execution_count": null,
   "metadata": {
    "collapsed": true
   },
   "outputs": [],
   "source": [
    "struct606 = pa.Surface()\n",
    "for i in range(0,3):\n",
    "    struct606.addLayer(NiO.set_thickness(10.))\n",
    "    struct606.addLayer(LSMO.set_thickness(10.))\n",
    "struct606.addLayer(STO)"
   ]
  },
  {
   "cell_type": "code",
   "execution_count": null,
   "metadata": {
    "collapsed": true
   },
   "outputs": [],
   "source": [
    "exp606 = struct606.doExperiment(theta606, R=r606)\n",
    "model = pa.Fitter(exp606,method=\"de\",cutoff_begin=20,cutoff_end=700)"
   ]
  },
  {
   "cell_type": "code",
   "execution_count": null,
   "metadata": {
    "collapsed": true
   },
   "outputs": [],
   "source": [
    "model.fit()    "
   ]
  },
  {
   "cell_type": "code",
   "execution_count": null,
   "metadata": {
    "collapsed": true
   },
   "outputs": [],
   "source": []
  }
 ],
 "metadata": {
  "kernelspec": {
   "display_name": "Python 2",
   "language": "python",
   "name": "python2"
  },
  "language_info": {
   "codemirror_mode": {
    "name": "ipython",
    "version": 2
   },
   "file_extension": ".py",
   "mimetype": "text/x-python",
   "name": "python",
   "nbconvert_exporter": "python",
   "pygments_lexer": "ipython2",
   "version": "2.7.14"
  }
 },
 "nbformat": 4,
 "nbformat_minor": 2
}
