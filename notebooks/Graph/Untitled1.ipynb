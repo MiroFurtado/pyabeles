{
 "cells": [
  {
   "cell_type": "code",
   "execution_count": 109,
   "metadata": {
    "collapsed": true
   },
   "outputs": [],
   "source": [
    "import numpy as np\n",
    "from refnx.analysis import Objective, CurveFitter, Parameter, Transform\n",
    "from refnx.analysis import process_chain\n",
    "from refnx.reflect import Slab, SLD, ReflectModel\n",
    "from refnx.dataset import ReflectDataset\n",
    "%matplotlib inline"
   ]
  },
  {
   "cell_type": "code",
   "execution_count": 120,
   "metadata": {
    "collapsed": true
   },
   "outputs": [],
   "source": [
    "data = np.genfromtxt('Miro data.csv',delimiter=',',skip_header=64)\n",
    "x = data[:,0]\n",
    "y = data[:,1]\n",
    "scale = y[0]\n",
    "\n",
    "#Normalizing the counts\n",
    "for i in range(0,len(y)):\n",
    "    y[i] /= scale\n",
    "    x[i] /= 2\n",
    "data = np.zeros_like(data)\n",
    "data[:,0] = np.radians(x)\n",
    "data[:,1] = y\n",
    "data = data.T"
   ]
  },
  {
   "cell_type": "code",
   "execution_count": 190,
   "metadata": {
    "collapsed": true
   },
   "outputs": [],
   "source": [
    "STO = SLD(4.81, name='STO')\n",
    "LSMO = SLD(6.5, name='LSMO')\n",
    "air = SLD(1, name='air')"
   ]
  },
  {
   "cell_type": "code",
   "execution_count": 191,
   "metadata": {},
   "outputs": [],
   "source": [
    "LSMO_layer = LSMO(300, 5.8)\n",
    "STO_LAYER = STO(0,0.26)\n",
    "LSMO_layer.thick.setp(bounds=(200, 400), vary=True)\n",
    "LSMO_layer.sld.real.setp(bounds=(5.0, 7.0), vary=True)\n",
    "LSMO_layer.rough.setp(bounds=(1, 15), vary=True)"
   ]
  },
  {
   "cell_type": "code",
   "execution_count": 192,
   "metadata": {},
   "outputs": [],
   "source": [
    "structure = STO_LAYER | LSMO | air"
   ]
  },
  {
   "cell_type": "code",
   "execution_count": 193,
   "metadata": {
    "collapsed": true
   },
   "outputs": [],
   "source": [
    "model = ReflectModel(structure, bkg=3e-6)"
   ]
  },
  {
   "cell_type": "code",
   "execution_count": 194,
   "metadata": {
    "collapsed": true
   },
   "outputs": [],
   "source": [
    "model.scale.setp(bounds=(0.1, 100.), vary=True)\n",
    "model.bkg.setp(bounds=(1e-9, 9e-6), vary=True)"
   ]
  },
  {
   "cell_type": "code",
   "execution_count": 195,
   "metadata": {},
   "outputs": [
    {
     "data": {
      "image/png": "[encoded data removed]",
      "text/plain": [
       "<matplotlib.figure.Figure at 0x10ecd36d0>"
      ]
     },
     "metadata": {},
     "output_type": "display_data"
    }
   ],
   "source": [
    "objective = Objective(model, data, transform=Transform('logY'))\n",
    "fig, ax = objective.plot()"
   ]
  },
  {
   "cell_type": "code",
   "execution_count": 177,
   "metadata": {},
   "outputs": [
    {
     "data": {
      "text/plain": [
       "   covar: array([[  1.54596201e-04,  -4.11696901e-08,   7.72613680e+05],\n",
       "       [ -4.11696901e-08,   2.75377165e-11,   2.30648673e+03],\n",
       "       [  7.72613680e+05,   2.30648673e+03,   2.46693300e+20]])\n",
       "     fun: 489.90059387217883\n",
       "     jac: array([  2.69768832e+03,   6.35344802e+06,   0.00000000e+00])\n",
       " message: 'Optimization terminated successfully.'\n",
       "    nfev: 1313\n",
       "     nit: 28\n",
       "  stderr: array([  1.24336721e-02,   5.24763913e-06,   1.57064732e+10])\n",
       " success: True\n",
       "       x: array([  1.00000000e-01,   1.00000000e-09,   5.26659696e+00])"
      ]
     },
     "execution_count": 177,
     "metadata": {},
     "output_type": "execute_result"
    }
   ],
   "source": [
    "fitter = CurveFitter(objective)\n",
    "fitter.fit('differential_evolution')"
   ]
  },
  {
   "cell_type": "code",
   "execution_count": 138,
   "metadata": {},
   "outputs": [
    {
     "name": "stderr",
     "output_type": "stream",
     "text": [
      "100%|██████████| 1000/1000 [01:53<00:00,  9.76it/s]\n"
     ]
    },
    {
     "data": {
      "text/plain": [
       "[MCMCResult(name='scale', param=<Parameter:    'scale'    value=   0.101049     +/- 0.00141, bounds=[0.1, 100.0]>, stderr=0.0014092538205246405, chain=array([[ 0.10414658,  0.1037507 ,  0.1042513 , ...,  0.10046807,\n",
       "         0.10646297,  0.10070016],\n",
       "       [ 0.10414658,  0.1037507 ,  0.1042513 , ...,  0.10053189,\n",
       "         0.10646297,  0.10070016],\n",
       "       [ 0.10414658,  0.10332394,  0.1042513 , ...,  0.10056996,\n",
       "         0.10606725,  0.10070016],\n",
       "       ..., \n",
       "       [ 0.10319938,  0.10089787,  0.1003595 , ...,  0.10062719,\n",
       "         0.10000534,  0.10026652],\n",
       "       [ 0.10319938,  0.10015242,  0.1003595 , ...,  0.10062719,\n",
       "         0.10000534,  0.10026652],\n",
       "       [ 0.10319938,  0.10015242,  0.1003595 , ...,  0.10062719,\n",
       "         0.10000534,  0.1002604 ]]), median=0.10104905357268927),\n",
       " MCMCResult(name='bkg', param=<Parameter:     'bkg'     value=  5.10534e-08   +/- 6.79e-08, bounds=[1e-09, 9e-06]>, stderr=6.7913624469138933e-08, chain=array([[  9.66730901e-07,   3.52234897e-06,   4.60488174e-07, ...,\n",
       "          3.54772091e-07,   9.06715614e-08,   4.08304851e-07],\n",
       "       [  9.66730901e-07,   3.52234897e-06,   4.60488174e-07, ...,\n",
       "          2.84227209e-07,   9.06715614e-08,   4.08304851e-07],\n",
       "       [  9.66730901e-07,   1.80194195e-06,   4.60488174e-07, ...,\n",
       "          3.09192202e-07,   9.32102354e-08,   4.08304851e-07],\n",
       "       ..., \n",
       "       [  1.25182008e-08,   8.05365436e-08,   1.13594820e-08, ...,\n",
       "          1.88928649e-08,   4.24427191e-08,   1.58947121e-07],\n",
       "       [  1.25182008e-08,   1.34368894e-07,   1.13594820e-08, ...,\n",
       "          1.88928649e-08,   4.24427191e-08,   1.58947121e-07],\n",
       "       [  1.25182008e-08,   1.34368894e-07,   1.13594820e-08, ...,\n",
       "          1.88928649e-08,   4.24427191e-08,   1.57630633e-07]]), median=5.1053385297813324e-08)]"
      ]
     },
     "execution_count": 138,
     "metadata": {},
     "output_type": "execute_result"
    }
   ],
   "source": [
    "fitter.sample(1000)"
   ]
  },
  {
   "cell_type": "code",
   "execution_count": 139,
   "metadata": {},
   "outputs": [
    {
     "data": {
      "text/plain": [
       "[MCMCResult(name='scale', param=<Parameter:    'scale'    value=   0.100906     +/- 0.00113, bounds=[0.1, 100.0]>, stderr=0.0011284382699042333, chain=array([[ 0.10044622,  0.1017956 ,  0.10247425, ...,  0.10393074,\n",
       "         0.10502554,  0.10186016],\n",
       "       [ 0.10102204,  0.10251813,  0.10106292, ...,  0.10210995,\n",
       "         0.10148212,  0.10172034],\n",
       "       [ 0.10217044,  0.1001299 ,  0.10083708, ...,  0.10231277,\n",
       "         0.10233714,  0.10119388],\n",
       "       ..., \n",
       "       [ 0.10050776,  0.10133518,  0.10262722, ...,  0.10003907,\n",
       "         0.10207215,  0.1002299 ],\n",
       "       [ 0.10043112,  0.10058465,  0.102066  , ...,  0.10106267,\n",
       "         0.10010168,  0.10063825],\n",
       "       [ 0.10002529,  0.10022702,  0.1049883 , ...,  0.10246451,\n",
       "         0.10043942,  0.1015011 ]]), median=0.10090635040751744),\n",
       " MCMCResult(name='bkg', param=<Parameter:     'bkg'     value=  4.48526e-08   +/- 5.25e-08, bounds=[1e-09, 9e-06]>, stderr=5.2456320263710268e-08, chain=array([[  4.21070006e-08,   2.16044353e-08,   1.98237911e-08, ...,\n",
       "          3.80286793e-08,   7.92257628e-08,   4.49708842e-09],\n",
       "       [  2.11754194e-08,   5.20831424e-08,   4.75832617e-09, ...,\n",
       "          1.69591345e-08,   6.07553584e-08,   7.41686652e-08],\n",
       "       [  1.73012512e-08,   1.09735495e-07,   5.81577701e-08, ...,\n",
       "          1.11911401e-08,   1.19669336e-08,   5.11729032e-08],\n",
       "       ..., \n",
       "       [  1.99918220e-08,   4.08007336e-08,   9.92929662e-09, ...,\n",
       "          2.04664638e-08,   5.93554087e-08,   7.91150149e-08],\n",
       "       [  5.42729596e-08,   4.04651316e-08,   6.97320886e-08, ...,\n",
       "          7.55517361e-08,   2.06419983e-07,   5.57772188e-09],\n",
       "       [  1.28178004e-08,   1.12735758e-08,   7.76663887e-09, ...,\n",
       "          1.02110059e-07,   1.01139988e-07,   2.16690524e-09]]), median=4.4852614512270387e-08)]"
      ]
     },
     "execution_count": 139,
     "metadata": {},
     "output_type": "execute_result"
    }
   ],
   "source": [
    "process_chain(objective, fitter.chain, nburn=400, nthin=50)\n"
   ]
  },
  {
   "cell_type": "code",
   "execution_count": 141,
   "metadata": {},
   "outputs": [
    {
     "name": "stdout",
     "output_type": "stream",
     "text": [
      "________________________________________________________________________________\n",
      "Objective - 4530863760\n",
      "Dataset = <refnx.dataset.data1d.Data1D object at 0x10e0f75d0>\n",
      "datapoints = 749\n",
      "chi2 = 165.617423063\n",
      "Weighted = False\n",
      "Transform = <refnx.analysis.objective.Transform object at 0x106e66f90>\n",
      "________________________________________________________________________________\n",
      "Parameters:       ''       \n",
      "________________________________________________________________________________\n",
      "Parameters: 'instrument parameters'\n",
      "<Parameter:    'scale'    value=   0.100906     +/- 0.00113, bounds=[0.1, 100.0]>\n",
      "<Parameter:     'bkg'     value=  4.48526e-08   +/- 5.25e-08, bounds=[1e-09, 9e-06]>\n",
      "<Parameter:'dq - resolution'value=       5        (fixed)  , bounds=[-inf, inf]>\n",
      "________________________________________________________________________________\n",
      "Parameters: 'Structure - ' \n",
      "________________________________________________________________________________\n",
      "Parameters:      'STO'     \n",
      "<Parameter: 'STO - thick' value=       0        (fixed)  , bounds=[-inf, inf]>\n",
      "<Parameter:  'STO - sld'  value=     4.81       (fixed)  , bounds=[-inf, inf]>\n",
      "<Parameter: 'STO - isld'  value=       0        (fixed)  , bounds=[-inf, inf]>\n",
      "<Parameter: 'STO - rough' value=     0.26       (fixed)  , bounds=[-inf, inf]>\n",
      "<Parameter:'STO - volfrac solvent'value=       0        (fixed)  , bounds=[-inf, inf]>\n",
      "________________________________________________________________________________\n",
      "Parameters:     'LSMO'     \n",
      "<Parameter:'LSMO - thick' value=       0        (fixed)  , bounds=[-inf, inf]>\n",
      "<Parameter: 'LSMO - sld'  value=      6.5       (fixed)  , bounds=[-inf, inf]>\n",
      "<Parameter: 'LSMO - isld' value=       0        (fixed)  , bounds=[-inf, inf]>\n",
      "<Parameter:'LSMO - rough' value=       0        (fixed)  , bounds=[-inf, inf]>\n",
      "<Parameter:'LSMO - volfrac solvent'value=       0        (fixed)  , bounds=[-inf, inf]>\n"
     ]
    },
    {
     "data": {
      "image/png": "[encoded data removed]",
      "text/plain": [
       "<matplotlib.figure.Figure at 0x106ec3390>"
      ]
     },
     "metadata": {},
     "output_type": "display_data"
    }
   ],
   "source": [
    "print(objective)\n",
    "fig, ax = objective.plot()"
   ]
  },
  {
   "cell_type": "code",
   "execution_count": null,
   "metadata": {
    "collapsed": true
   },
   "outputs": [],
   "source": []
  }
 ],
 "metadata": {
  "kernelspec": {
   "display_name": "Python 2",
   "language": "python",
   "name": "python2"
  },
  "language_info": {
   "codemirror_mode": {
    "name": "ipython",
    "version": 2
   },
   "file_extension": ".py",
   "mimetype": "text/x-python",
   "name": "python",
   "nbconvert_exporter": "python",
   "pygments_lexer": "ipython2",
   "version": "2.7.14"
  }
 },
 "nbformat": 4,
 "nbformat_minor": 2
}
