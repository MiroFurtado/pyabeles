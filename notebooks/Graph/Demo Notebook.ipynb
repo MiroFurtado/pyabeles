{
 "cells": [
  {
   "cell_type": "code",
   "execution_count": 33,
   "metadata": {
    "collapsed": true
   },
   "outputs": [],
   "source": [
    "import numpy as np\n",
    "import matplotlib.pyplot as plt\n",
    "import sys\n",
    "sys.path.append('../')\n",
    "import pyabeles as pa\n",
    "%matplotlib inline\n",
    "np.random.seed(12345)"
   ]
  },
  {
   "cell_type": "markdown",
   "metadata": {},
   "source": [
    "Jason gave me some data, let's see how well I can fit it. First, let's load in the data and normalize it."
   ]
  },
  {
   "cell_type": "code",
   "execution_count": 34,
   "metadata": {
    "collapsed": true
   },
   "outputs": [],
   "source": [
    "data = np.genfromtxt('Miro data.csv',delimiter=',',skip_header=64)\n",
    "x = data[:,0]\n",
    "y = data[:,1]\n",
    "scale = y[0]\n",
    "\n",
    "\n",
    "#Normalizing the counts\n",
    "for i in range(0,len(y)):\n",
    "    y[i] /= scale\n",
    "    x[i] /= 2"
   ]
  },
  {
   "cell_type": "markdown",
   "metadata": {},
   "source": [
    "Now let's construct a basic surface that we think it could be. We will put in the bulk densities as our guess"
   ]
  },
  {
   "cell_type": "code",
   "execution_count": 25,
   "metadata": {
    "collapsed": true
   },
   "outputs": [],
   "source": [
    "struct = pa.Surface()\n",
    "STO = pa.Layer(0.,5.246,sigma=0.26,name=\"STO\")\n",
    "LSMO = pa.Layer(0.,6.6, sigma=5.85, name=\"LSMO\")\n",
    "struct.addLayer(LSMO)\n",
    "struct.addLayer(STO)\n",
    "exp = struct.doExperiment(x) #Generate an experiment object from the structure. \n",
    "exp.theory = y"
   ]
  },
  {
   "cell_type": "code",
   "execution_count": 26,
   "metadata": {
    "collapsed": true
   },
   "outputs": [],
   "source": [
    "old = exp.get_params_list()"
   ]
  },
  {
   "cell_type": "code",
   "execution_count": 27,
   "metadata": {
    "collapsed": true
   },
   "outputs": [],
   "source": [
    "model = pa.Fitter(exp,method=\"de\",cutoff_begin=5)"
   ]
  },
  {
   "cell_type": "code",
   "execution_count": 35,
   "metadata": {},
   "outputs": [
    {
     "name": "stdout",
     "output_type": "stream",
     "text": [
      "[(0.75, 1.25), (0.0, 1.9999999999999999e-06), (-0.20000000000000001, 0.20000000000000001), (0.1, 5), (100, 400), (0.0, 0.0), (4.7896608666233087, 7.9827681110388484), (4.3960466203023376, 7.3267443671705621), (0.1, 10.0), (0.1, 10.0)]\n"
     ]
    }
   ],
   "source": [
    "model.bounds_from_guess()\n",
    "model.set_bound(8,(0.1,10.)) #Custom sigma bounds\n",
    "model.set_bound(9,(0.1,10.))\n",
    "model.set_bound(4,(100,400))\n",
    "\n",
    "print model.bounds"
   ]
  },
  {
   "cell_type": "code",
   "execution_count": 36,
   "metadata": {
    "scrolled": true
   },
   "outputs": [
    {
     "name": "stdout",
     "output_type": "stream",
     "text": [
      "737.69421363\n",
      "[0.96070675409318596, 1.160454949661571e-06, -0.056050850106395773, 3.1821381541157954, 308.92230574974803, 0.0, 7.5712572174471573, 6.9434369423950413, 4.9553975566981112, 0.39075671853502908]\n"
     ]
    },
    {
     "data": {
      "image/png": "[encoded data removed]",
      "text/plain": [
       "<matplotlib.figure.Figure at 0x110ac72d0>"
      ]
     },
     "metadata": {},
     "output_type": "display_data"
    }
   ],
   "source": [
    "surf = model.fit()\n",
    "mhm = exp.genTheory(modify=False)\n",
    "plt.plot(x[0:],np.log10(mhm[0:]))\n",
    "plt.plot(x[0:],np.log10(y[0:]))\n",
    "print model.error(exp.get_params_list())\n",
    "new = exp.get_params_list()\n",
    "print new"
   ]
  },
  {
   "cell_type": "code",
   "execution_count": null,
   "metadata": {
    "collapsed": true,
    "scrolled": true
   },
   "outputs": [],
   "source": [
    "print old\n",
    "print new"
   ]
  }
 ],
 "metadata": {
  "kernelspec": {
   "display_name": "Python 2",
   "language": "python",
   "name": "python2"
  },
  "language_info": {
   "codemirror_mode": {
    "name": "ipython",
    "version": 2
   },
   "file_extension": ".py",
   "mimetype": "text/x-python",
   "name": "python",
   "nbconvert_exporter": "python",
   "pygments_lexer": "ipython2",
   "version": "2.7.14"
  }
 },
 "nbformat": 4,
 "nbformat_minor": 2
}
